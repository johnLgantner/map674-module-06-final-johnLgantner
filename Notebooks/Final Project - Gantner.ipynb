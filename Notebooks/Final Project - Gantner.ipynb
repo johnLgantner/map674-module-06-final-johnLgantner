{
 "cells": [
  {
   "cell_type": "markdown",
   "id": "369f8ead-da37-491a-b223-dc6de288b286",
   "metadata": {},
   "source": [
    "## United Nations Peacekeeping and Civilian Violence\n",
    "Final Project - John Gantner - MAP 674"
   ]
  },
  {
   "cell_type": "code",
   "execution_count": null,
   "id": "03321133-0755-4b08-b82b-52ade7795b72",
   "metadata": {},
   "outputs": [],
   "source": []
  }
 ],
 "metadata": {
  "kernelspec": {
   "display_name": "Python 3 (ipykernel)",
   "language": "python",
   "name": "python3"
  },
  "language_info": {
   "codemirror_mode": {
    "name": "ipython",
    "version": 3
   },
   "file_extension": ".py",
   "mimetype": "text/x-python",
   "name": "python",
   "nbconvert_exporter": "python",
   "pygments_lexer": "ipython3",
   "version": "3.12.3"
  }
 },
 "nbformat": 4,
 "nbformat_minor": 5
}
